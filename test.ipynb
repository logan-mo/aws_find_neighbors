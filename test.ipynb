{
 "cells": [
  {
   "cell_type": "code",
   "execution_count": 16,
   "metadata": {},
   "outputs": [],
   "source": [
    "import numpy as np\n",
    "import pandas as pd"
   ]
  },
  {
   "cell_type": "code",
   "execution_count": 29,
   "metadata": {},
   "outputs": [],
   "source": [
    "def nearest_neighbour(df: pd.DataFrame, n_neigbours, *target):\n",
    "    df['distances'] = np.sqrt((df['lat'] - target[0])**2 + (df['long'] - target[1])**2)\n",
    "    return df.sort_values(by='distances').head(n_neigbours)"
   ]
  },
  {
   "cell_type": "code",
   "execution_count": 30,
   "metadata": {},
   "outputs": [],
   "source": [
    "latitudes   = np.random.random(50) * 100 - 50\n",
    "longitudes  = np.random.random(50) * 100 - 50\n",
    "\n",
    "df = pd.DataFrame({\n",
    "    'lat': latitudes,\n",
    "    'long': longitudes\n",
    "})"
   ]
  },
  {
   "cell_type": "code",
   "execution_count": 31,
   "metadata": {},
   "outputs": [],
   "source": [
    "target = (-52.5, -52.5)\n",
    "number_of_neighbours = 5"
   ]
  },
  {
   "cell_type": "code",
   "execution_count": 32,
   "metadata": {},
   "outputs": [
    {
     "data": {
      "text/html": [
       "<div>\n",
       "<style scoped>\n",
       "    .dataframe tbody tr th:only-of-type {\n",
       "        vertical-align: middle;\n",
       "    }\n",
       "\n",
       "    .dataframe tbody tr th {\n",
       "        vertical-align: top;\n",
       "    }\n",
       "\n",
       "    .dataframe thead th {\n",
       "        text-align: right;\n",
       "    }\n",
       "</style>\n",
       "<table border=\"1\" class=\"dataframe\">\n",
       "  <thead>\n",
       "    <tr style=\"text-align: right;\">\n",
       "      <th></th>\n",
       "      <th>lat</th>\n",
       "      <th>long</th>\n",
       "      <th>distances</th>\n",
       "    </tr>\n",
       "  </thead>\n",
       "  <tbody>\n",
       "    <tr>\n",
       "      <th>18</th>\n",
       "      <td>-45.228703</td>\n",
       "      <td>-46.330588</td>\n",
       "      <td>9.535901</td>\n",
       "    </tr>\n",
       "    <tr>\n",
       "      <th>41</th>\n",
       "      <td>-41.630685</td>\n",
       "      <td>-44.304476</td>\n",
       "      <td>13.612811</td>\n",
       "    </tr>\n",
       "    <tr>\n",
       "      <th>27</th>\n",
       "      <td>-43.187806</td>\n",
       "      <td>-40.413259</td>\n",
       "      <td>15.257990</td>\n",
       "    </tr>\n",
       "    <tr>\n",
       "      <th>9</th>\n",
       "      <td>-37.503965</td>\n",
       "      <td>-20.010913</td>\n",
       "      <td>35.782982</td>\n",
       "    </tr>\n",
       "    <tr>\n",
       "      <th>29</th>\n",
       "      <td>-23.730644</td>\n",
       "      <td>-27.467190</td>\n",
       "      <td>38.135514</td>\n",
       "    </tr>\n",
       "  </tbody>\n",
       "</table>\n",
       "</div>"
      ],
      "text/plain": [
       "          lat       long  distances\n",
       "18 -45.228703 -46.330588   9.535901\n",
       "41 -41.630685 -44.304476  13.612811\n",
       "27 -43.187806 -40.413259  15.257990\n",
       "9  -37.503965 -20.010913  35.782982\n",
       "29 -23.730644 -27.467190  38.135514"
      ]
     },
     "execution_count": 32,
     "metadata": {},
     "output_type": "execute_result"
    }
   ],
   "source": [
    "nearest_neighbour(df, number_of_neighbours, *target)"
   ]
  },
  {
   "cell_type": "code",
   "execution_count": null,
   "metadata": {},
   "outputs": [],
   "source": []
  }
 ],
 "metadata": {
  "kernelspec": {
   "display_name": "Python 3",
   "language": "python",
   "name": "python3"
  },
  "language_info": {
   "codemirror_mode": {
    "name": "ipython",
    "version": 3
   },
   "file_extension": ".py",
   "mimetype": "text/x-python",
   "name": "python",
   "nbconvert_exporter": "python",
   "pygments_lexer": "ipython3",
   "version": "3.10.11"
  },
  "orig_nbformat": 4
 },
 "nbformat": 4,
 "nbformat_minor": 2
}
