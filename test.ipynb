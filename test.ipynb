{
 "cells": [
  {
   "cell_type": "code",
   "execution_count": 1,
   "metadata": {},
   "outputs": [],
   "source": [
    "import numpy as np\n",
    "import pandas as pd\n",
    "\n",
    "def nearest_neighbour(df: pd.DataFrame, n_neigbours, *target):\n",
    "    df['distances'] = np.sqrt((df['lat'] - target[0])**2 + (df['long'] - target[1])**2)\n",
    "    return df.sort_values(by='distances').head(n_neigbours)"
   ]
  },
  {
   "cell_type": "code",
   "execution_count": 2,
   "metadata": {},
   "outputs": [
    {
     "data": {
      "text/html": [
       "<div>\n",
       "<style scoped>\n",
       "    .dataframe tbody tr th:only-of-type {\n",
       "        vertical-align: middle;\n",
       "    }\n",
       "\n",
       "    .dataframe tbody tr th {\n",
       "        vertical-align: top;\n",
       "    }\n",
       "\n",
       "    .dataframe thead th {\n",
       "        text-align: right;\n",
       "    }\n",
       "</style>\n",
       "<table border=\"1\" class=\"dataframe\">\n",
       "  <thead>\n",
       "    <tr style=\"text-align: right;\">\n",
       "      <th></th>\n",
       "      <th>lat</th>\n",
       "      <th>long</th>\n",
       "      <th>distances</th>\n",
       "    </tr>\n",
       "  </thead>\n",
       "  <tbody>\n",
       "    <tr>\n",
       "      <th>39</th>\n",
       "      <td>-29.235355</td>\n",
       "      <td>-45.769416</td>\n",
       "      <td>24.218680</td>\n",
       "    </tr>\n",
       "    <tr>\n",
       "      <th>40</th>\n",
       "      <td>-33.673281</td>\n",
       "      <td>-31.011122</td>\n",
       "      <td>28.569516</td>\n",
       "    </tr>\n",
       "    <tr>\n",
       "      <th>14</th>\n",
       "      <td>-35.999010</td>\n",
       "      <td>-23.201928</td>\n",
       "      <td>33.625284</td>\n",
       "    </tr>\n",
       "    <tr>\n",
       "      <th>24</th>\n",
       "      <td>-19.023533</td>\n",
       "      <td>-44.437739</td>\n",
       "      <td>34.433615</td>\n",
       "    </tr>\n",
       "    <tr>\n",
       "      <th>35</th>\n",
       "      <td>-19.482539</td>\n",
       "      <td>-39.408467</td>\n",
       "      <td>35.518178</td>\n",
       "    </tr>\n",
       "  </tbody>\n",
       "</table>\n",
       "</div>"
      ],
      "text/plain": [
       "          lat       long  distances\n",
       "39 -29.235355 -45.769416  24.218680\n",
       "40 -33.673281 -31.011122  28.569516\n",
       "14 -35.999010 -23.201928  33.625284\n",
       "24 -19.023533 -44.437739  34.433615\n",
       "35 -19.482539 -39.408467  35.518178"
      ]
     },
     "execution_count": 2,
     "metadata": {},
     "output_type": "execute_result"
    }
   ],
   "source": [
    "latitudes   = np.random.random(50) * 100 - 50\n",
    "longitudes  = np.random.random(50) * 100 - 50\n",
    "\n",
    "df = pd.DataFrame({\n",
    "    'lat': latitudes,\n",
    "    'long': longitudes\n",
    "})\n",
    "\n",
    "target = (-52.5, -52.5)\n",
    "number_of_neighbours = 5\n",
    "\n",
    "nearest_neighbour(df, number_of_neighbours, *target)"
   ]
  },
  {
   "cell_type": "code",
   "execution_count": null,
   "metadata": {},
   "outputs": [],
   "source": []
  }
 ],
 "metadata": {
  "kernelspec": {
   "display_name": "Python 3",
   "language": "python",
   "name": "python3"
  },
  "language_info": {
   "codemirror_mode": {
    "name": "ipython",
    "version": 3
   },
   "file_extension": ".py",
   "mimetype": "text/x-python",
   "name": "python",
   "nbconvert_exporter": "python",
   "pygments_lexer": "ipython3",
   "version": "3.10.11"
  },
  "orig_nbformat": 4
 },
 "nbformat": 4,
 "nbformat_minor": 2
}
